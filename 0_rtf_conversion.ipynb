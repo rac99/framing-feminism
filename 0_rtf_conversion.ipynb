{
 "cells": [
  {
   "attachments": {},
   "cell_type": "markdown",
   "metadata": {},
   "source": [
    "# RTF Conversion\n",
    "\n",
    "This is the initial stage, where we convert all the raw rtf files into a .csv file that we can then use with Pandas for later parts of the data processing and analysis."
   ]
  },
  {
   "cell_type": "code",
   "execution_count": 1,
   "metadata": {},
   "outputs": [
    {
     "name": "stdout",
     "output_type": "stream",
     "text": [
      "['/Users/RyanChan/Desktop/University/3B-Spring23/DH-412 History and the digital/all-years-only-rtf/1993a-201-300-Primer of populist progressives; They claim subtle and complex differences from DFL liberals.rtf', '/Users/RyanChan/Desktop/University/3B-Spring23/DH-412 History and the digital/all-years-only-rtf/2002a-101-200-Pretty Poison.rtf', \"/Users/RyanChan/Desktop/University/3B-Spring23/DH-412 History and the digital/all-years-only-rtf/1987-01-100-RECIFE JOURNAL; BRAZIL 'S FLESHPOTS BRING TOURISTS AND A BACKLASH.rtf\", '/Users/RyanChan/Desktop/University/3B-Spring23/DH-412 History and the digital/all-years-only-rtf/2010b-01-80-Life in U.S. Brings Success and Visibility For Muslim Women.rtf', '/Users/RyanChan/Desktop/University/3B-Spring23/DH-412 History and the digital/all-years-only-rtf/1990a-201-300-Beating Time Warner at Its Own Game.rtf']\n"
     ]
    }
   ],
   "source": [
    "import os\n",
    "\n",
    "final_list = []\n",
    "\n",
    "output_folder = \"revised_complete_rtf_files\"\n",
    "directory = r\"/Users/RyanChan/Desktop/University/3B-Spring23/DH-412 History and the digital/all-years-only-rtf\"\n",
    "# iterate over files in\n",
    "# that directory\n",
    "for filename in os.listdir(directory):\n",
    "    file = os.path.join(directory, filename)\n",
    "    if os.path.isfile(file):\n",
    "        final_list.append(file)\n",
    "\n",
    "print(final_list[0:5])"
   ]
  },
  {
   "cell_type": "code",
   "execution_count": 2,
   "metadata": {},
   "outputs": [],
   "source": [
    "from striprtf.striprtf import rtf_to_text\n",
    "import re\n",
    "from datetime import datetime\n",
    "\n",
    "def rtf_dict(file):\n",
    "    with open(file, 'r', encoding='utf-8', errors='ignore') as infile:\n",
    "        content = infile.read()\n",
    "        text = rtf_to_text(content).strip()\n",
    "    # print(text)\n",
    "    # Extract the values for each key\n",
    "    if \"Body\" in text:\n",
    "\n",
    "        sub_list = [\"The New York Times\", \"St. Louis Post-Dispatch (Missouri)\", \n",
    "            \"Christian Science Monitor (Boston, MA)\", \"Star Tribune (Minneapolis, MN)\", \n",
    "            \"Pittsburgh Post-Gazette (Pennsylvania)\", \"The Atlanta Journal and Constitution\",\n",
    "            \"St. Petersburg Times (Florida)\", \"The Philadelphia Inquirer\", \"USA TODAY\", \n",
    "            \"The Tampa Tribune (Florida)\", \"Journal of Commerce\", \"Daily News (New York)\", \n",
    "            \"Philadelphia Daily News\"]\n",
    "        \n",
    "        title = \"TITLE NOT FOUND\"\n",
    "        for i in range(len(sub_list)):\n",
    "            if sub_list[i] in text:\n",
    "                title = text.split(sub_list[i])[0]\n",
    "\n",
    "        publisher = \"PUBLISHER NOT FOUND\"\n",
    "        for i in range(len(sub_list)):\n",
    "            if text.find(sub_list[i]) != -1:\n",
    "                publisher = sub_list[i]\n",
    "                break\n",
    "\n",
    "        try:\n",
    "            match = re.search(r'(?i)\\b(?:Jan(?:uary)?|Feb(?:ruary)?|Mar(?:ch)?|Apr(?:il)?|May?|Jun(?:e)?|Jul(?:y)?|Aug(?:ust)?|Sep(?:tember)?|Oct(?:ober)?|Nov(?:ember)?|Dec(?:ember)?) (0?[1-9]|[12][0-9]|3[01]), [0-9]+', text)\n",
    "            date = match.group()\n",
    "\n",
    "            date = datetime.strptime(date, '%B %d, %Y')\n",
    "            \n",
    "            year = date.strftime(\"%Y\")\n",
    "            month = date.strftime(\"%m\")\n",
    "            day = date.strftime(\"%d\")\n",
    "        except AttributeError:\n",
    "            year = \"0000\"\n",
    "            month = \"00\"\n",
    "            day = \"00\"   \n",
    "        except ValueError:\n",
    "            year = \"0000\"\n",
    "            month = \"00\"\n",
    "            day = \"00\"\n",
    "\n",
    "        full_text = \"\\n\".join(text.split(\"\\n\")[text.split(\"\\n\").index(\"Body\")+1:text.split('\\n').index(\"End of Document\")]).strip().strip('\\n')\n",
    "\n",
    "\n",
    "        dictionary = {\"title\": title, \"publisher\": publisher, \"year\": year, \"month\": month, \"day\": day, \"full text\": full_text}\n",
    "        \n",
    "        \n",
    "        return dictionary\n",
    "    else:\n",
    "        return None\n",
    "\n",
    "# Print the dictionary\n",
    "# print(dictionary)"
   ]
  },
  {
   "cell_type": "code",
   "execution_count": 3,
   "metadata": {},
   "outputs": [],
   "source": [
    "import os\n",
    "folder_path = output_folder\n",
    "\n",
    "\n",
    "dict_lst = []\n",
    "for file in final_list:\n",
    "    if \"(GRAPHIC ONLY)\" in file or \"(PHOTO ONLY)\" in file:\n",
    "        continue\n",
    "    dct = rtf_dict(os.path.join(folder_path, file))\n",
    "    if dct is not None:\n",
    "        dict_lst.append(dct)"
   ]
  },
  {
   "cell_type": "code",
   "execution_count": 4,
   "metadata": {},
   "outputs": [
    {
     "data": {
      "text/plain": [
       "{'title': 'Primer of populist progressives;\\n They claim subtle and complex differences from DFL liberals\\n',\n",
       " 'publisher': 'Star Tribune (Minneapolis, MN)',\n",
       " 'year': '1993',\n",
       " 'month': '02',\n",
       " 'day': '28',\n",
       " 'full text': 'Lots of Minnesota\\'s liberal DFLers these days seem to be calling themselves \"progressives\" or even \"populist progressives.\"\\n In the St. Paul mayoral election, for instance, Mayor Jim Scheibel and U.S. Sen. Paul Wellstone have launched a well-publicized effort to elect not just any Democrat, but a candidate with a \"progressive agenda.\"\\n Up the hill in the state House, there\\'s a growing subcaucus called the Progressive Study Group, which meets regularly and elects officers.\\n The use of the term \"progressive\" has been growing for at least a decade. But many Minnesotans probably wonder: What is the difference between these progressives and your garden-variety liberal Democrat?\\nConservatives and Republicans say not much, except that progressives are more extreme. Their critics say \"progressive\" is nothing more than a euphemism for \"radical\" or \"ultra-liberal.\"\\n But progressives themselves say the difference between themselves and liberals is subtle, complex and important. They also believe that the public is moving their way on many issues and that they are now closer to the mainstream, free of some of the qualities people don\\'t like about so-called \"limousine liberals,\" such as overriding concern for the civil liberties of criminals.\\n Distinguishing a progressive from a liberal in a police lineup would not be easy. The former might be more likely to have a ponytail or to wear a symbol of solidarity with some cause, less likely to be dressed in business attire. Liberals have long been identified with the concerns of the poor; many progressives are poor.\\n In general, progressives are outsiders of modest means rather than elites. They tend to be true believers in various ideals, less concerned with their own material success, and above all, less respectful and deferential to the free market and big business. They deplore the widening disparity in wealth and income between the top fifth of households and the rest of the population.\\n Progressives beg not to be associated with Socialists, but a key distinction is that they admire the political and economic systems of Europe and are relentlessly critical of the relatively sparse entitlements to health care and education in the United States.\\n Progressives are not afraid of saying that wealth must be redistributed for the nation to thrive.\\n And they cast themselves as fighters, earthier, less effete and less wimpy than the stereotypical liberal.\\n \"A lot of it has to do with style,\" said former state Rep. Paul Ogren, an imposing, cigarette-smoking, tough-talking activist who has opened a campaign for governor. \"We are less likely to be members of elite organizations, and there\\'s a rough-hewn quality to some of us.\\n \"When I first came to the Legislature I assumed my alliances would be with more liberal members. But I found I had different tastes - my liberal friends might say the utter lack of it. And my willingness to go to war over issues seemed to offend liberals, who would discuss things in a courteous, subdued sort of fashion.\"\\n \"Progressives are scrappy; they have fun,\" said state Rep. Alice Hausman, DFL-St. Paul. She claims another important difference is the emphasis that progressives put on grass-roots organizing in politics, as opposed to reliance on contributions from affluent contributors for paid advertising to spread the message.\\n The philosophy and style of this group are personified in Wellstone and Ogren. Both are aggressive politicians, class-oriented, projecting a kind of \"us-against-the-establishment\" appeal to lower and middle economic classes.\\n Both enjoy the support of a broad coalition that by any definition is liberal. This includes environmental activists, civil rights and minority advocates, feminists, younger labor leaders, gays and lesbians and proponents of peace and disarmament.\\n Progressives have never been taken too seriously by the older, mature DFL establishment, the lawyers, former office-holders, lobbyists and campaign contributors who tend to be more worldly and pragmatic. Former Vice President Walter Mondale, although supportive of Wellstone in his shocking upset victory in 1990, once referred to his message as \"hot left rhetoric.\"\\n While both Ogren and Wellstone almost always refer to themselves as progressives, they frequently say they are \"populist\" as well.\\n Both terms have their roots deep in American history - particularly in Minnesota - and have gone in and out of vogue. The original progressives tended to be middle-class reformers, often Republicans, who sought to correct some of the abuses of unregulated capitalism and corrupt Democratic machine politics at the turn of the century.\\n Populists, by contrast, tended to be gritty rural reformers, who saw ordinary farmers and workers victimized by big businesses and the upper classes. Modern-day progressive populists are careful to disown the tinges of racism and anti-Semitism that sometimes discredited some of the early populist leaders.\\n Mel Duncan, leader of the Minnesota Alliance for Progressive Action, said he believes the critical difference with the new progressives is that \"we are not willing to protect privilege. And we believe that the best way to improve people\\'s lives is to get money and resources into the hands of those people where problems exist.\"\\n As a result, the progressives\\' top priority in the current legislative session is a more progressive income tax - cuts for lower and middle incomes and steep increases for the top.\\n Duncan and Ogren claim that progressives are less likely than liberals to push for specific new government bureaucracies to solve social problems.\\n \"Liberals tend to structure programs targeted to the delivery of benefits to narrow groups they deem needy. We want programs far more inclined to right-based benefits for everyone, such as Social Security and universal health care,\" Ogren said.\\n That may sound appealing, but the progressives\\' critics note that the centerpiece of their national agenda, a single-payer health-care system, would establish the biggest expansion of federal bureaucracy in decades and essentially nationalize the health-insurance and HMO industry.\\n And progressives have been mostly silent on which state and local programs they would eliminate or reorganize to save money. Growth in the public sector would clearly be an outcome of a \"populist progressive\" governor or president.\\n \"It\\'s very easy to categorize them as the liberal fringe,\" said state Rep. Gil Gutknecht, IR-Rochester, assistant minority leader. \"Some of the issues they talk about are very scary to the broad base of voters,\" he said, singling out the health-care proposal.\\n At the same time, Gutknecht said he admires the progressives for their consistency and integrity, for walking their talk.\\n \"At least they have intellectual honesty,\" Gutknecht said. \"They don\\'t have the cynicism that you have with the limousine liberals. They don\\'t talk about the dangers of a voucher system to public education and then send their kids to private schools.\"\\n Gutknecht said he believes that the rise of the progressives is creating \"a great deal of friction\" within the DFL Party and that this divisiveness is bound to help Independent-Republicans.\\n In fact, it could be argued that there are now at least three distinct varieties of DFLers: the progressives on the left; a much more conservative group on the right, mostly rural folks, some of whom are opposed to abortion rights and are quite responsive to business interests; and the largest group of all in the middle, who don\\'t fit neatly into either end.\\n Progressives acknowledge that this danger exists and that they must tread carefully.\\n \"When you get down to the nitty-gritty,\" Hausman said, \"we have much more in common with other DFLers than we have against them.  We have to be careful about labels that divide us.\"\\nSo what\\'s the difference?\\nA grossly simplistic guide to distinguishing populist progressives from regular ol\\' DFLers\\n Basic Attitude\\nConventional DFLers Concerned.\\nPopulist-Progressives Angry.\\n Main slogan\\nConventional DFLers \"Shared Sacrifice\".\\nPopulist-Progressives \"Social and economic justice now.\"\\n Social class\\nConventional DFLers Bourgeouise .\\nPopulist-Progressives Proletarian.\\n Vehicle\\nConventional DFLers Volvo, Ford Explorer.\\nPopulist-Progressives Any American make, preferably more\\n than 5 years old, with rust.\\n Uniform\\nConventional DFLers Business suits, professional\\n attire.\\nPopulist-Progressives Turtlenecks, sweaters, minimal\\n make-up and jewelry, scuffed shoes.\\n Beer\\nConventional DFLers Imported ale.\\nPopulist-Progressives Pig\\'s Eye.\\n Diet\\nConventional DFLers Semi-vegetarian.\\nPopulist-Progressives Macro-biotic, food raised through\\n sustainable agriculture, no Spam.\\n Hero\\nConventional DFLers Bill Clinton, Paul Tsongas\\n Walter Mondale.\\nPopulist-Progressives Saul Alinsky, Ralph Nader, Jerry Brown, Paul Wellstone.\\n Last book read\\nConventional DFLers \"Reiniventing Government\".\\nPopulist-Progressives \"Who Will Tell the People?\".\\n State budget solution\\nConventional DFLers Cost control, \\'reinvent\\' government,\\n avoid taxes.\\nPopulist-Progressives Tax top 4% of taxpayers, cut for\\n bottom 75%, spend more on social programs.\\n Background\\nConventional DFLers Private college, student politics.\\nPopulist-Progressives State school, MPIRG organizer.\\n Television\\nConventional DFLers \"Northern Exposure\".\\nPopulist-Progressives Public access on cable.\\n Bumper sticker\\nConventional DFLers Clinton/Gore.\\nPopulist-Progressives Think Globally, Act Locally.\\n Magazine\\nConventional DFLers Nation.\\nPopulist-Progressives Mother Jones, Utne Reader.\\n Secret opinion of other side\\nConventional DFLers Goofy hippies.\\nPopulist-Progressives Yuppie scum.\\n Basic goal for U.S.\\nConventional DFLers Affluence and competitiveness\\n and more equity.\\nPopulist-Progressives Fairness and equality,\\n for its own sake.\\nDefinitely pop progs: U.S. Sen. Paul Wellstone, former state Rep. Paul Ogren, state Rep. Andy Dawkins, DFL-St. Paul, St. Paul Mayor Jim Scheibel.\\nDefinitely not pop progs: U.S. Rep. Tim Penny, former Commerce Commissioner Mike Hatch, Sen. Ember Reichgott, DFL-New Hope, Sen. Bill Luther, DFL-Brooklyn Park.\\nStar Tribune Graphic/ Anders Ramberg\\n\\nGraphic\\n\\n \\nChart\\n\\nLoad-Date:\\xa0March 2, 1993'}"
      ]
     },
     "execution_count": 4,
     "metadata": {},
     "output_type": "execute_result"
    }
   ],
   "source": [
    "dict_lst[0]"
   ]
  },
  {
   "cell_type": "code",
   "execution_count": 5,
   "metadata": {},
   "outputs": [],
   "source": [
    "import csv\n",
    "output_file = \"all_years_raw.csv\"\n",
    "\n",
    "# Write the dictionary to the CSV file\n",
    "with open(output_file, \"w\", newline=\"\") as file:\n",
    "    writer = csv.DictWriter(file, fieldnames=dict_lst[0].keys())\n",
    "    writer.writeheader()\n",
    "    for dct in dict_lst:\n",
    "        writer.writerow(dct)\n",
    "    file.close()"
   ]
  },
  {
   "cell_type": "code",
   "execution_count": 6,
   "metadata": {},
   "outputs": [],
   "source": [
    "import pandas as pd"
   ]
  },
  {
   "cell_type": "code",
   "execution_count": 7,
   "metadata": {},
   "outputs": [
    {
     "data": {
      "text/plain": [
       "'Lots of Minnesota\\'s liberal DFLers these days seem to be calling themselves \"progressives\" or even \"populist progressives.\"\\n In the St. Paul mayoral election, for instance, Mayor Jim Scheibel and U.S. Sen. Paul Wellstone have launched a well-publicized effort to elect not just any Democrat, but a candidate with a \"progressive agenda.\"\\n Up the hill in the state House, there\\'s a growing subcaucus called the Progressive Study Group, which meets regularly and elects officers.\\n The use of the term \"progressive\" has been growing for at least a decade. But many Minnesotans probably wonder: What is the difference between these progressives and your garden-variety liberal Democrat?\\nConservatives and Republicans say not much, except that progressives are more extreme. Their critics say \"progressive\" is nothing more than a euphemism for \"radical\" or \"ultra-liberal.\"\\n But progressives themselves say the difference between themselves and liberals is subtle, complex and important. They also believe that the public is moving their way on many issues and that they are now closer to the mainstream, free of some of the qualities people don\\'t like about so-called \"limousine liberals,\" such as overriding concern for the civil liberties of criminals.\\n Distinguishing a progressive from a liberal in a police lineup would not be easy. The former might be more likely to have a ponytail or to wear a symbol of solidarity with some cause, less likely to be dressed in business attire. Liberals have long been identified with the concerns of the poor; many progressives are poor.\\n In general, progressives are outsiders of modest means rather than elites. They tend to be true believers in various ideals, less concerned with their own material success, and above all, less respectful and deferential to the free market and big business. They deplore the widening disparity in wealth and income between the top fifth of households and the rest of the population.\\n Progressives beg not to be associated with Socialists, but a key distinction is that they admire the political and economic systems of Europe and are relentlessly critical of the relatively sparse entitlements to health care and education in the United States.\\n Progressives are not afraid of saying that wealth must be redistributed for the nation to thrive.\\n And they cast themselves as fighters, earthier, less effete and less wimpy than the stereotypical liberal.\\n \"A lot of it has to do with style,\" said former state Rep. Paul Ogren, an imposing, cigarette-smoking, tough-talking activist who has opened a campaign for governor. \"We are less likely to be members of elite organizations, and there\\'s a rough-hewn quality to some of us.\\n \"When I first came to the Legislature I assumed my alliances would be with more liberal members. But I found I had different tastes - my liberal friends might say the utter lack of it. And my willingness to go to war over issues seemed to offend liberals, who would discuss things in a courteous, subdued sort of fashion.\"\\n \"Progressives are scrappy; they have fun,\" said state Rep. Alice Hausman, DFL-St. Paul. She claims another important difference is the emphasis that progressives put on grass-roots organizing in politics, as opposed to reliance on contributions from affluent contributors for paid advertising to spread the message.\\n The philosophy and style of this group are personified in Wellstone and Ogren. Both are aggressive politicians, class-oriented, projecting a kind of \"us-against-the-establishment\" appeal to lower and middle economic classes.\\n Both enjoy the support of a broad coalition that by any definition is liberal. This includes environmental activists, civil rights and minority advocates, feminists, younger labor leaders, gays and lesbians and proponents of peace and disarmament.\\n Progressives have never been taken too seriously by the older, mature DFL establishment, the lawyers, former office-holders, lobbyists and campaign contributors who tend to be more worldly and pragmatic. Former Vice President Walter Mondale, although supportive of Wellstone in his shocking upset victory in 1990, once referred to his message as \"hot left rhetoric.\"\\n While both Ogren and Wellstone almost always refer to themselves as progressives, they frequently say they are \"populist\" as well.\\n Both terms have their roots deep in American history - particularly in Minnesota - and have gone in and out of vogue. The original progressives tended to be middle-class reformers, often Republicans, who sought to correct some of the abuses of unregulated capitalism and corrupt Democratic machine politics at the turn of the century.\\n Populists, by contrast, tended to be gritty rural reformers, who saw ordinary farmers and workers victimized by big businesses and the upper classes. Modern-day progressive populists are careful to disown the tinges of racism and anti-Semitism that sometimes discredited some of the early populist leaders.\\n Mel Duncan, leader of the Minnesota Alliance for Progressive Action, said he believes the critical difference with the new progressives is that \"we are not willing to protect privilege. And we believe that the best way to improve people\\'s lives is to get money and resources into the hands of those people where problems exist.\"\\n As a result, the progressives\\' top priority in the current legislative session is a more progressive income tax - cuts for lower and middle incomes and steep increases for the top.\\n Duncan and Ogren claim that progressives are less likely than liberals to push for specific new government bureaucracies to solve social problems.\\n \"Liberals tend to structure programs targeted to the delivery of benefits to narrow groups they deem needy. We want programs far more inclined to right-based benefits for everyone, such as Social Security and universal health care,\" Ogren said.\\n That may sound appealing, but the progressives\\' critics note that the centerpiece of their national agenda, a single-payer health-care system, would establish the biggest expansion of federal bureaucracy in decades and essentially nationalize the health-insurance and HMO industry.\\n And progressives have been mostly silent on which state and local programs they would eliminate or reorganize to save money. Growth in the public sector would clearly be an outcome of a \"populist progressive\" governor or president.\\n \"It\\'s very easy to categorize them as the liberal fringe,\" said state Rep. Gil Gutknecht, IR-Rochester, assistant minority leader. \"Some of the issues they talk about are very scary to the broad base of voters,\" he said, singling out the health-care proposal.\\n At the same time, Gutknecht said he admires the progressives for their consistency and integrity, for walking their talk.\\n \"At least they have intellectual honesty,\" Gutknecht said. \"They don\\'t have the cynicism that you have with the limousine liberals. They don\\'t talk about the dangers of a voucher system to public education and then send their kids to private schools.\"\\n Gutknecht said he believes that the rise of the progressives is creating \"a great deal of friction\" within the DFL Party and that this divisiveness is bound to help Independent-Republicans.\\n In fact, it could be argued that there are now at least three distinct varieties of DFLers: the progressives on the left; a much more conservative group on the right, mostly rural folks, some of whom are opposed to abortion rights and are quite responsive to business interests; and the largest group of all in the middle, who don\\'t fit neatly into either end.\\n Progressives acknowledge that this danger exists and that they must tread carefully.\\n \"When you get down to the nitty-gritty,\" Hausman said, \"we have much more in common with other DFLers than we have against them.  We have to be careful about labels that divide us.\"\\nSo what\\'s the difference?\\nA grossly simplistic guide to distinguishing populist progressives from regular ol\\' DFLers\\n Basic Attitude\\nConventional DFLers Concerned.\\nPopulist-Progressives Angry.\\n Main slogan\\nConventional DFLers \"Shared Sacrifice\".\\nPopulist-Progressives \"Social and economic justice now.\"\\n Social class\\nConventional DFLers Bourgeouise .\\nPopulist-Progressives Proletarian.\\n Vehicle\\nConventional DFLers Volvo, Ford Explorer.\\nPopulist-Progressives Any American make, preferably more\\n than 5 years old, with rust.\\n Uniform\\nConventional DFLers Business suits, professional\\n attire.\\nPopulist-Progressives Turtlenecks, sweaters, minimal\\n make-up and jewelry, scuffed shoes.\\n Beer\\nConventional DFLers Imported ale.\\nPopulist-Progressives Pig\\'s Eye.\\n Diet\\nConventional DFLers Semi-vegetarian.\\nPopulist-Progressives Macro-biotic, food raised through\\n sustainable agriculture, no Spam.\\n Hero\\nConventional DFLers Bill Clinton, Paul Tsongas\\n Walter Mondale.\\nPopulist-Progressives Saul Alinsky, Ralph Nader, Jerry Brown, Paul Wellstone.\\n Last book read\\nConventional DFLers \"Reiniventing Government\".\\nPopulist-Progressives \"Who Will Tell the People?\".\\n State budget solution\\nConventional DFLers Cost control, \\'reinvent\\' government,\\n avoid taxes.\\nPopulist-Progressives Tax top 4% of taxpayers, cut for\\n bottom 75%, spend more on social programs.\\n Background\\nConventional DFLers Private college, student politics.\\nPopulist-Progressives State school, MPIRG organizer.\\n Television\\nConventional DFLers \"Northern Exposure\".\\nPopulist-Progressives Public access on cable.\\n Bumper sticker\\nConventional DFLers Clinton/Gore.\\nPopulist-Progressives Think Globally, Act Locally.\\n Magazine\\nConventional DFLers Nation.\\nPopulist-Progressives Mother Jones, Utne Reader.\\n Secret opinion of other side\\nConventional DFLers Goofy hippies.\\nPopulist-Progressives Yuppie scum.\\n Basic goal for U.S.\\nConventional DFLers Affluence and competitiveness\\n and more equity.\\nPopulist-Progressives Fairness and equality,\\n for its own sake.\\nDefinitely pop progs: U.S. Sen. Paul Wellstone, former state Rep. Paul Ogren, state Rep. Andy Dawkins, DFL-St. Paul, St. Paul Mayor Jim Scheibel.\\nDefinitely not pop progs: U.S. Rep. Tim Penny, former Commerce Commissioner Mike Hatch, Sen. Ember Reichgott, DFL-New Hope, Sen. Bill Luther, DFL-Brooklyn Park.\\nStar Tribune Graphic/ Anders Ramberg\\n\\nGraphic\\n\\n \\nChart\\n\\nLoad-Date:Â\\xa0March 2, 1993'"
      ]
     },
     "execution_count": 7,
     "metadata": {},
     "output_type": "execute_result"
    }
   ],
   "source": [
    "df = pd.read_csv(output_file, encoding=\"latin-1\")\n",
    "df[\"full text\"][0]"
   ]
  },
  {
   "cell_type": "code",
   "execution_count": 12,
   "metadata": {},
   "outputs": [
    {
     "data": {
      "text/plain": [
       "4"
      ]
     },
     "execution_count": 12,
     "metadata": {},
     "output_type": "execute_result"
    }
   ],
   "source": [
    "# some statistics to get an idea of our raw data\n",
    "# df.count() # 43165 rows returned\n",
    "# (df[\"title\"] ==\"TITLE NOT FOUND\").sum() # 1311 titles not found\n",
    "# (df[\"publisher\"] ==\"PUBLISHER NOT FOUND\").sum() # 1311 publishers not found\n",
    "# (df[\"year\"] ==0000).sum() # 4 articles where date was not found (year, month, or date)\n"
   ]
  },
  {
   "cell_type": "code",
   "execution_count": null,
   "metadata": {},
   "outputs": [],
   "source": [
    "df.sample(n=50)"
   ]
  },
  {
   "cell_type": "code",
   "execution_count": null,
   "metadata": {},
   "outputs": [],
   "source": []
  }
 ],
 "metadata": {
  "kernelspec": {
   "display_name": "Python 3.10.6 64-bit",
   "language": "python",
   "name": "python3"
  },
  "language_info": {
   "codemirror_mode": {
    "name": "ipython",
    "version": 3
   },
   "file_extension": ".py",
   "mimetype": "text/x-python",
   "name": "python",
   "nbconvert_exporter": "python",
   "pygments_lexer": "ipython3",
   "version": "3.9.6"
  },
  "orig_nbformat": 4,
  "vscode": {
   "interpreter": {
    "hash": "3196968d684371006099b3d55edeef8ed90365227a30deaef86e5d4aa8519be0"
   }
  }
 },
 "nbformat": 4,
 "nbformat_minor": 2
}
